{
  "nbformat": 4,
  "nbformat_minor": 0,
  "metadata": {
    "colab": {
      "name": "Copy of Assignment 1.ipynb",
      "provenance": [],
      "collapsed_sections": []
    },
    "kernelspec": {
      "name": "python3",
      "display_name": "Python 3"
    }
  },
  "cells": [
    {
      "cell_type": "code",
      "metadata": {
        "id": "YwCDiTfAnEGH",
        "colab_type": "code",
        "colab": {
          "base_uri": "https://localhost:8080/",
          "height": 67
        },
        "outputId": "a9a3394d-310c-48e9-9bd4-7f4b2b75209e"
      },
      "source": [
        "#write a python program to design simple calculator\n",
        "#addition of two numbers\n",
        "a=int(input('Enter a value'))\n",
        "b=int(input('Enter b value'))\n",
        "print('the addition of two numbers is', a+b)"
      ],
      "execution_count": 1,
      "outputs": [
        {
          "output_type": "stream",
          "text": [
            "Enter a value10\n",
            "Enter b value10\n",
            "the addition of two numbers is 20\n"
          ],
          "name": "stdout"
        }
      ]
    },
    {
      "cell_type": "code",
      "metadata": {
        "id": "jIdJjVBSETcd",
        "colab_type": "code",
        "colab": {
          "base_uri": "https://localhost:8080/",
          "height": 67
        },
        "outputId": "3cbcd143-c679-403c-9238-fbe69c26d39e"
      },
      "source": [
        "#subtraction of two numbers\n",
        "a=int(input('Enter a value'))\n",
        "b=int(input('Enter b value'))\n",
        "print('the subtraction of two numbers is', a-b)\n"
      ],
      "execution_count": 2,
      "outputs": [
        {
          "output_type": "stream",
          "text": [
            "Enter a value10\n",
            "Enter b value10\n",
            "the subtraction of two numbers is 0\n"
          ],
          "name": "stdout"
        }
      ]
    },
    {
      "cell_type": "code",
      "metadata": {
        "id": "yfwVDKaqExeV",
        "colab_type": "code",
        "colab": {
          "base_uri": "https://localhost:8080/",
          "height": 67
        },
        "outputId": "ef753634-b4b2-4fe7-8d32-bd05edc3d9fc"
      },
      "source": [
        "#multiplication of two numbers\n",
        "a=int(input('Enter a value'))\n",
        "b=int(input('Enter b value'))\n",
        "print('the multiplication of two numbers is', a*b)\n"
      ],
      "execution_count": 3,
      "outputs": [
        {
          "output_type": "stream",
          "text": [
            "Enter a value10\n",
            "Enter b value10\n",
            "the multiplication of two numbers is 100\n"
          ],
          "name": "stdout"
        }
      ]
    },
    {
      "cell_type": "code",
      "metadata": {
        "id": "SJn-NWRXFJei",
        "colab_type": "code",
        "colab": {
          "base_uri": "https://localhost:8080/",
          "height": 67
        },
        "outputId": "507ef8ea-f4a9-4e94-bd33-fc7a23972889"
      },
      "source": [
        "#Division of two numbers\n",
        "a=int(input('Enter a value'))\n",
        "b=int(input('Enter b value'))\n",
        "print('the division of two numbers is', a/b)\n"
      ],
      "execution_count": 5,
      "outputs": [
        {
          "output_type": "stream",
          "text": [
            "Enter a value10\n",
            "Enter b value10\n",
            "the division of two numbers is 1.0\n"
          ],
          "name": "stdout"
        }
      ]
    },
    {
      "cell_type": "code",
      "metadata": {
        "id": "oWAaGMbPF6Jf",
        "colab_type": "code",
        "colab": {
          "base_uri": "https://localhost:8080/",
          "height": 67
        },
        "outputId": "bb37e12c-0417-4afc-cee7-63dde161054e"
      },
      "source": [
        "#reminder of two numbers\n",
        "a=int(input('Enter a value'))\n",
        "b=int(input('Enter b value'))\n",
        "print('the reminder of two numbers is', a%b)\n"
      ],
      "execution_count": 6,
      "outputs": [
        {
          "output_type": "stream",
          "text": [
            "Enter a value12\n",
            "Enter b value10\n",
            "the reminder of two numbers is 2\n"
          ],
          "name": "stdout"
        }
      ]
    },
    {
      "cell_type": "code",
      "metadata": {
        "id": "G3fhzcJTGina",
        "colab_type": "code",
        "colab": {
          "base_uri": "https://localhost:8080/",
          "height": 67
        },
        "outputId": "f95d45b4-dabe-4954-899c-07b5a8f6813d"
      },
      "source": [
        "#exponent\n",
        "a=int(input('enter the number'))\n",
        "b=int(input('enter the number'))\n",
        "print('the addition of two numbers is', a**b)\n"
      ],
      "execution_count": 7,
      "outputs": [
        {
          "output_type": "stream",
          "text": [
            "enter the number3\n",
            "enter the power of that number2\n",
            "the addition of two numbers is 9\n"
          ],
          "name": "stdout"
        }
      ]
    },
    {
      "cell_type": "code",
      "metadata": {
        "id": "dQM2sZlMHMJR",
        "colab_type": "code",
        "colab": {
          "base_uri": "https://localhost:8080/",
          "height": 67
        },
        "outputId": "7f85e161-dd62-47cb-800a-7ccf6a732a92"
      },
      "source": [
        "#floor division\n",
        "a=int(input('Enter a value'))\n",
        "b=int(input('Enter b value'))\n",
        "print('the floor division of two numbers is', a//b)\n"
      ],
      "execution_count": 8,
      "outputs": [
        {
          "output_type": "stream",
          "text": [
            "Enter a value12\n",
            "Enter b value10\n",
            "the floor division of two numbers is 1\n"
          ],
          "name": "stdout"
        }
      ]
    },
    {
      "cell_type": "code",
      "metadata": {
        "id": "qpr2u-txH3Fp",
        "colab_type": "code",
        "colab": {
          "base_uri": "https://localhost:8080/",
          "height": 84
        },
        "outputId": "9499ae41-20d8-4033-e882-bd39ea6442ba"
      },
      "source": [
        "#write a phython program to calculate simple interest\n",
        "p=float(input('Enter the principal value'))\n",
        "r=float(input('Enter the rate of interest'))\n",
        "t=int(input('Enter the time period'))\n",
        "s=float((p*r*t)/100)\n",
        "print('The simple interest is' ,s)"
      ],
      "execution_count": 9,
      "outputs": [
        {
          "output_type": "stream",
          "text": [
            "Enter the principal value3.7\n",
            "Enter the rate of interest10\n",
            "Enter the time period3\n",
            "The simple interest is 1.11\n"
          ],
          "name": "stdout"
        }
      ]
    },
    {
      "cell_type": "code",
      "metadata": {
        "id": "vFvxAaIZMuA0",
        "colab_type": "code",
        "colab": {
          "base_uri": "https://localhost:8080/",
          "height": 50
        },
        "outputId": "00c4c033-9345-43dd-bf41-50f47b4eb7fe"
      },
      "source": [
        "#write a program to calculate area of circle\n",
        "pi=3.14\n",
        "r=float(input('Enter the radius of circle'))\n",
        "print('Area of circle is', pi*r*r )"
      ],
      "execution_count": 10,
      "outputs": [
        {
          "output_type": "stream",
          "text": [
            "Enter the radius of circle5\n",
            "Area of circle is 78.5\n"
          ],
          "name": "stdout"
        }
      ]
    },
    {
      "cell_type": "code",
      "metadata": {
        "id": "6YNHOKOnOtVC",
        "colab_type": "code",
        "colab": {
          "base_uri": "https://localhost:8080/",
          "height": 84
        },
        "outputId": "66abaf2f-01a8-41cc-f487-6e1613b5f058"
      },
      "source": [
        "#write a program to calculate area of triangle\n",
        "a=float(input('Enter first side'))  \n",
        "b=float(input('Enter second side'))  \n",
        "c=float(input('Enter third side'))\n",
        "s=float(a + b + c) / 2\n",
        "Area=(s*(s-a)*(s-b)*(s-c))** 0.5\n",
        "print('The area of the triangle is', Area) "
      ],
      "execution_count": 11,
      "outputs": [
        {
          "output_type": "stream",
          "text": [
            "Enter first side4\n",
            "Enter second side7\n",
            "Enter third side8\n",
            "The area of the triangle is 13.997767679169419\n"
          ],
          "name": "stdout"
        }
      ]
    },
    {
      "cell_type": "code",
      "metadata": {
        "id": "t2bssAWYROI8",
        "colab_type": "code",
        "colab": {
          "base_uri": "https://localhost:8080/",
          "height": 50
        },
        "outputId": "f37cc156-2d55-4733-b6fa-e2a927f83118"
      },
      "source": [
        "#write a program to temp in Celsius to Fahrenheit\n",
        "c=float(input('The temp in Celsius'))\n",
        "f=(celsius*1.8)+32\n",
        "print('the temp in fahrenheit is' ,fahrenheit)"
      ],
      "execution_count": null,
      "outputs": [
        {
          "output_type": "stream",
          "text": [
            "The temp in Celsius37.5\n",
            "the temp in fahrenheit is 99.5\n"
          ],
          "name": "stdout"
        }
      ]
    },
    {
      "cell_type": "code",
      "metadata": {
        "id": "FFdM1EYFUGOP",
        "colab_type": "code",
        "colab": {
          "base_uri": "https://localhost:8080/",
          "height": 67
        },
        "outputId": "8095fb91-a65e-438a-da35-e8496149a87a"
      },
      "source": [
        "#write a program to calculate area of rectangle\n",
        "w=float(input('Please Enter the Width of a Rectangle'))\n",
        "h=float(input('Please Enter the Height of a Rectangle'))\n",
        "print(\" Area of a Rectangle is\" ,w*h)"
      ],
      "execution_count": null,
      "outputs": [
        {
          "output_type": "stream",
          "text": [
            "Please Enter the Width of a Rectangle2\n",
            "Please Enter the Height of a Rectangle4\n",
            " Area of a Rectangle is 8.0\n"
          ],
          "name": "stdout"
        }
      ]
    },
    {
      "cell_type": "code",
      "metadata": {
        "id": "D1JGPeiLWWA_",
        "colab_type": "code",
        "colab": {
          "base_uri": "https://localhost:8080/",
          "height": 50
        },
        "outputId": "eb22d2e6-762e-4ca4-d76f-532b79be48bc"
      },
      "source": [
        "#write a program to calculate perimeter of a square\n",
        "a=float(input('Enter the length of side of square'))\n",
        "\n",
        "print('The perimeter of the square is', 4*a)"
      ],
      "execution_count": null,
      "outputs": [
        {
          "output_type": "stream",
          "text": [
            "Enter the length of side of square2\n",
            "The perimeter of the square is 8.0\n"
          ],
          "name": "stdout"
        }
      ]
    },
    {
      "cell_type": "code",
      "metadata": {
        "id": "KT-LUR9xYpHg",
        "colab_type": "code",
        "colab": {
          "base_uri": "https://localhost:8080/",
          "height": 50
        },
        "outputId": "e6636bb9-53bf-4b82-b769-cdf1e1c72aed"
      },
      "source": [
        "#write a program to calculate circumference of a circle\n",
        "r=float(input('Enter the radius of circle'))\n",
        "pi=3.14\n",
        "print('The circumferenceof the circle is' , 2*pi*r)\n"
      ],
      "execution_count": null,
      "outputs": [
        {
          "output_type": "stream",
          "text": [
            "Enter the radius of circle3\n",
            "The circumferenceof the circle is 18.84\n"
          ],
          "name": "stdout"
        }
      ]
    },
    {
      "cell_type": "code",
      "metadata": {
        "id": "FvAWb1FoaEJh",
        "colab_type": "code",
        "colab": {
          "base_uri": "https://localhost:8080/",
          "height": 84
        },
        "outputId": "d3347cc9-1e51-4198-ecb8-16cb82066bc0"
      },
      "source": [
        "#write a phython program to swap to numbers\n",
        "x=5\n",
        "y=6\n",
        "print('The value of x before swaping', x)\n",
        "print('The value of y before swapiing', y)\n",
        "temp=x\n",
        "x=y\n",
        "y=temp\n",
        "print('The value of x after swaping', x)\n",
        "print('The value of y after swapiing', y)"
      ],
      "execution_count": null,
      "outputs": [
        {
          "output_type": "stream",
          "text": [
            "The value of x before swaping 5\n",
            "The value of y before swapiing 6\n",
            "The value of x after swaping 6\n",
            "The value of y after swapiing 5\n"
          ],
          "name": "stdout"
        }
      ]
    }
  ]
}